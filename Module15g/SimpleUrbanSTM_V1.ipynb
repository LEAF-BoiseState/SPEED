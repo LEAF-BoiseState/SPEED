{
 "cells": [
  {
   "cell_type": "markdown",
   "metadata": {},
   "source": [
    "# A simple state-and-transition model of urban development\n",
    "\n",
    "This is a very, very simple implementation of a state-and-transition model (STM), applied to a developing city. This model can be thought of as a kind of a cellular automata or agent-based model (ABM). We start with an initial spatial map of a city with wild/undeveloped pixels (0s) and urban/developed pixels (1s). These initial conditions can be thought of as a kind of agent. And at each time step, undeveloped agents evaluate the \"urbanness\" of a square region around them. Based on how developed that environment is they are less or more likely to switch to being developed; the less urban the neighborhood the less likely the pixel will flip. The more urban the more likely. But even when a neighborhood surrounding an undeveloped pixel is very urbanized the transition probability is still pretty low (we can set it, but a transition probability of 6% would be high). Also, we're assuming that urbanization is a non-reversible process. That is, once a pixel is developed or urban, there's no going back. This is a very simple toy model that's essentially meant to show how state and transition models work, and how in an ABM an agent can incorporate some degree of interaction with neighboring agents when making a decision. In this case, an undeveloped agent \"asks\" how many of her/his neighbors are developed pixels and then increasing the likelihood of transitioning from undeveloped to developed. "
   ]
  },
  {
   "cell_type": "code",
   "execution_count": 2,
   "metadata": {
    "collapsed": false
   },
   "outputs": [],
   "source": [
    "# For an iPython Notebook, show figures in line\n",
    "%matplotlib inline \n",
    "\n",
    "# Import important libraries\n",
    "import numpy as np\n",
    "import matplotlib.pyplot as plt\n",
    "import math as m\n",
    "\n",
    "import warnings\n",
    "warnings.filterwarnings('ignore')"
   ]
  },
  {
   "cell_type": "code",
   "execution_count": 3,
   "metadata": {
    "collapsed": true
   },
   "outputs": [],
   "source": [
    "Ntime = 100 # Number of time steps to run (years)"
   ]
  },
  {
   "cell_type": "markdown",
   "metadata": {},
   "source": [
    "## Parameters controlling a \"neighborhood\" search\n",
    "\n",
    "Now we define a few parameters that control how we decide whether an undeveloped or pixel will \"flip\" to being developed. Essentially, we will look in a square region (neighborhood) around a pixel and determine how many of those pixels are urbanized. The probability of flipping - or transition probability - increases from a minimum of zero when the percentage of developed pixels is zero in the neighborhood to a maximum value above some threshold of neighborhood urbanization. The shape of that increase is a logistic curve and we set a critical neighborhood urbanization percentage where the logistic function is half it's maximum value."
   ]
  },
  {
   "cell_type": "code",
   "execution_count": 4,
   "metadata": {
    "collapsed": true
   },
   "outputs": [],
   "source": [
    "Ring = 6 # Number of rings of cells to evaluate neighborhood\n",
    "\n",
    "# Set Transition probabilities\n",
    "P_WU_lonely  = 0.00 # The Wild-to-Urban transition probability when the neighborhood is 100% wild\n",
    "P_WU_crowded = 0.10 # The Wild-to-Urban transition probability when the neighborhood is 100% urban\n",
    "f_UrbanCrit  = 0.50 # A value of neighborhood urban percentage where the logistic function \n",
    "                    # is (P_WU_lonely + P_WU_crowded)/2\n",
    "k_logistic   = 10.0 # The steepness of the logistics function increase"
   ]
  },
  {
   "cell_type": "markdown",
   "metadata": {},
   "source": [
    "## Load the initial conditions\n",
    "The intitial condition is something I created in excel and isn't anywhere in particular, nor does it necessarily adhere to any interesting properties of real developed areas (i.e., roughness, fractal dimensions, etc. aren't real). Also, spatial dimensions are completely arbitrary. This could be relatively small towns in very high resolution, or it could be megapolitan cities in coarser detail."
   ]
  },
  {
   "cell_type": "code",
   "execution_count": 5,
   "metadata": {
    "collapsed": false
   },
   "outputs": [
    {
     "data": {
      "text/plain": [
       "(-0.5, 285.5, 298.5, -0.5)"
      ]
     },
     "execution_count": 5,
     "metadata": {},
     "output_type": "execute_result"
    },
    {
     "data": {
      "image/png": "[encoded data removed]",
      "text/plain": [
       "<matplotlib.figure.Figure at 0x1084c4950>"
      ]
     },
     "metadata": {},
     "output_type": "display_data"
    }
   ],
   "source": [
    "# Load the initial city map\n",
    "CityMap = np.load('InitialCity.npy') # Load the initial condition from \n",
    "CityMapInit = np.copy(CityMap) # Clone the initial condition \n",
    "\n",
    "# Plot the initial condition for show\n",
    "plt.figure(1)\n",
    "plt.imshow(CityMapInit,cmap='gray')\n",
    "plt.title(\"Initial condition\")\n",
    "plt.axis('off')"
   ]
  },
  {
   "cell_type": "markdown",
   "metadata": {},
   "source": [
    "## The main loop\n",
    "The cell below presents the guts of the program. Effectively we loop through every time step. Within each time step, we loop through each pixel of the domain. At that pixel, we ask whether it's developed (==1) or not (==0). If it's not (again, we're assuming that once a pixel becomes developed, there's no going back), then we query to see how developed the nearby surrounding neighborhood is. Based on the fraction/percentage of urbanization we then calculate a transition probability. The more developed that surrounding neighborhood, the higher that transition probability. Then we flip a coin (or, more accurately generate a uniform random number on a 0-1 interval). If the generated random number is less than that transition probability the pixel switches from being undeveloped to being developed. If not, then it remains undeveloped. "
   ]
  },
  {
   "cell_type": "code",
   "execution_count": 6,
   "metadata": {
    "collapsed": false
   },
   "outputs": [
    {
     "name": "stdout",
     "output_type": "stream",
     "text": [
      "Completed time step 0. 1.0% complete\n",
      "Completed time step 1. 2.0% complete\n",
      "Completed time step 2. 3.0% complete\n",
      "Completed time step 3. 4.0% complete\n",
      "Completed time step 4. 5.0% complete\n",
      "Completed time step 5. 6.0% complete\n",
      "Completed time step 6. 7.0% complete\n",
      "Completed time step 7. 8.0% complete\n",
      "Completed time step 8. 9.0% complete\n",
      "Completed time step 9. 10.0% complete\n",
      "Completed time step 10. 11.0% complete\n",
      "Completed time step 11. 12.0% complete\n",
      "Completed time step 12. 13.0% complete\n",
      "Completed time step 13. 14.0% complete\n",
      "Completed time step 14. 15.0% complete\n",
      "Completed time step 15. 16.0% complete\n",
      "Completed time step 16. 17.0% complete\n",
      "Completed time step 17. 18.0% complete\n",
      "Completed time step 18. 19.0% complete\n",
      "Completed time step 19. 20.0% complete\n",
      "Completed time step 20. 21.0% complete\n",
      "Completed time step 21. 22.0% complete\n",
      "Completed time step 22. 23.0% complete\n",
      "Completed time step 23. 24.0% complete\n",
      "Completed time step 24. 25.0% complete\n",
      "Completed time step 25. 26.0% complete\n",
      "Completed time step 26. 27.0% complete\n",
      "Completed time step 27. 28.0% complete\n",
      "Completed time step 28. 29.0% complete\n",
      "Completed time step 29. 30.0% complete\n",
      "Completed time step 30. 31.0% complete\n",
      "Completed time step 31. 32.0% complete\n",
      "Completed time step 32. 33.0% complete\n",
      "Completed time step 33. 34.0% complete\n",
      "Completed time step 34. 35.0% complete\n",
      "Completed time step 35. 36.0% complete\n",
      "Completed time step 36. 37.0% complete\n",
      "Completed time step 37. 38.0% complete\n",
      "Completed time step 38. 39.0% complete\n",
      "Completed time step 39. 40.0% complete\n",
      "Completed time step 40. 41.0% complete\n",
      "Completed time step 41. 42.0% complete\n",
      "Completed time step 42. 43.0% complete\n",
      "Completed time step 43. 44.0% complete\n",
      "Completed time step 44. 45.0% complete\n",
      "Completed time step 45. 46.0% complete\n",
      "Completed time step 46. 47.0% complete\n",
      "Completed time step 47. 48.0% complete\n",
      "Completed time step 48. 49.0% complete\n",
      "Completed time step 49. 50.0% complete\n",
      "Completed time step 50. 51.0% complete\n",
      "Completed time step 51. 52.0% complete\n",
      "Completed time step 52. 53.0% complete\n",
      "Completed time step 53. 54.0% complete\n",
      "Completed time step 54. 55.0% complete\n",
      "Completed time step 55. 56.0% complete\n",
      "Completed time step 56. 57.0% complete\n",
      "Completed time step 57. 58.0% complete\n",
      "Completed time step 58. 59.0% complete\n",
      "Completed time step 59. 60.0% complete\n",
      "Completed time step 60. 61.0% complete\n",
      "Completed time step 61. 62.0% complete\n",
      "Completed time step 62. 63.0% complete\n",
      "Completed time step 63. 64.0% complete\n",
      "Completed time step 64. 65.0% complete\n",
      "Completed time step 65. 66.0% complete\n",
      "Completed time step 66. 67.0% complete\n",
      "Completed time step 67. 68.0% complete\n",
      "Completed time step 68. 69.0% complete\n",
      "Completed time step 69. 70.0% complete\n",
      "Completed time step 70. 71.0% complete\n",
      "Completed time step 71. 72.0% complete\n",
      "Completed time step 72. 73.0% complete\n",
      "Completed time step 73. 74.0% complete\n",
      "Completed time step 74. 75.0% complete\n",
      "Completed time step 75. 76.0% complete\n",
      "Completed time step 76. 77.0% complete\n",
      "Completed time step 77. 78.0% complete\n",
      "Completed time step 78. 79.0% complete\n",
      "Completed time step 79. 80.0% complete\n",
      "Completed time step 80. 81.0% complete\n",
      "Completed time step 81. 82.0% complete\n",
      "Completed time step 82. 83.0% complete\n",
      "Completed time step 83. 84.0% complete\n",
      "Completed time step 84. 85.0% complete\n",
      "Completed time step 85. 86.0% complete\n",
      "Completed time step 86. 87.0% complete\n",
      "Completed time step 87. 88.0% complete\n",
      "Completed time step 88. 89.0% complete\n",
      "Completed time step 89. 90.0% complete\n",
      "Completed time step 90. 91.0% complete\n",
      "Completed time step 91. 92.0% complete\n",
      "Completed time step 92. 93.0% complete\n",
      "Completed time step 93. 94.0% complete\n",
      "Completed time step 94. 95.0% complete\n",
      "Completed time step 95. 96.0% complete\n",
      "Completed time step 96. 97.0% complete\n",
      "Completed time step 97. 98.0% complete\n",
      "Completed time step 98. 99.0% complete\n",
      "Completed time step 99. 100.0% complete\n"
     ]
    }
   ],
   "source": [
    "dims = np.shape(CityMap) # Get the dimensions of the spatial domain\n",
    "Nrows = dims[0] # Get the number of rows\n",
    "Ncols = dims[1] # Get the number of columns\n",
    "\n",
    "for i in xrange(0,Ntime):\n",
    "    \n",
    "    # Copy the map of the city. We don't want transitions from wild to urban \n",
    "    # within a time loop to influence the potential transition of adjoining pixels\n",
    "    # pixels in the nearby neighborhood.\n",
    "    CityMapUpdated = np.copy(CityMap)     \n",
    "\n",
    "    for j in xrange(0,Nrows):\n",
    "        \n",
    "        for k in xrange(0,Ncols):\n",
    "            \n",
    "            if(CityMap[j,k] == 0.0): # Only need to consider wild pixels\n",
    "                \n",
    "                # Get the starting and ending row and column numbers N=Ring pixels \n",
    "                # in the each direction of the pixel in question (the neighborhood)\n",
    "                StartRow = np.max((j-Ring-1,0))\n",
    "                EndRow   = np.min((j+Ring+1,Nrows-1))\n",
    "                StartCol = np.max((k-Ring-1,0))\n",
    "                EndCol   = np.min((k+Ring+1,Ncols-1))\n",
    "                \n",
    "                # Get the 1s and 0s of the surrounding neighborhood\n",
    "                HoodMap = CityMap[StartRow:EndRow,StartCol:EndCol]\n",
    "\n",
    "                # Get the fraction of urbanized pixels in the neighborhood\n",
    "                dimsHoodMap = np.shape(HoodMap)\n",
    "                NHoodPix = float(dimsHoodMap[0]*dimsHoodMap[1])\n",
    "                NHoodUrb = np.sum(HoodMap)\n",
    "                \n",
    "                # Compute the fraction of pixels in the neighborhood that are urbanized/developed\n",
    "                f_Urban = NHoodUrb/NHoodPix\n",
    "                \n",
    "                # Get the urbanization weighted transition probability\n",
    "                # Transform neighborhood fraction and the critical fraction to a value that ranges from \n",
    "                # -infinity to +infinity so that we can use the full range of the logistic function\n",
    "                g_Urban = np.tan((f_Urban - 0.5)*m.pi)\n",
    "                g_UrbanCrit = np.tan((f_UrbanCrit - 0.5)*m.pi)\n",
    "                \n",
    "                # Compute the transition probability for this particular pixel\n",
    "                P_WU = P_WU_crowded / (1 + np.exp(-k_logistic*(float(g_Urban - g_UrbanCrit)))) + P_WU_lonely\n",
    "                \n",
    "                # Now here is where our transition decision gets made \n",
    "                if(np.random.uniform() < P_WU): # Transition if true\n",
    "                    CityMapUpdated[j,k] = 1.0   # Now urbanized\n",
    "                    \n",
    "    # At the end of the time loop, store the updated map for the next time step\n",
    "    CityMap = np.copy(CityMapUpdated)\n",
    "    \n",
    "    # Print out our progress to the command line\n",
    "    print \"Completed time step \" + format(i) + \". \" + format(float(i+1)/float(Ntime)*100.0) + \"% complete\"\n"
   ]
  },
  {
   "cell_type": "markdown",
   "metadata": {},
   "source": [
    "## Plot up the results\n",
    "In the following figures we plot the initial and final maps, as well as the change between the beginning and end of the simulation. In the change map, blue pixels are pixels that remain undeveloped, red pixels are those that were initially urban, and white pixels are pixels that began as wild and transition to urban during the course of the simulation."
   ]
  },
  {
   "cell_type": "code",
   "execution_count": 8,
   "metadata": {
    "collapsed": false
   },
   "outputs": [
    {
     "data": {
      "text/plain": [
       "(-0.5, 285.5, 298.5, -0.5)"
      ]
     },
     "execution_count": 8,
     "metadata": {},
     "output_type": "execute_result"
    },
    {
     "data": {
      "image/png": "[encoded data removed]",
      "text/plain": [
       "<matplotlib.figure.Figure at 0x1096f30d0>"
      ]
     },
     "metadata": {},
     "output_type": "display_data"
    },
    {
     "data": {
      "image/png": "[encoded data removed]",
      "text/plain": [
       "<matplotlib.figure.Figure at 0x1097ba250>"
      ]
     },
     "metadata": {},
     "output_type": "display_data"
    },
    {
     "data": {
      "image/png": "[encoded data removed]",
      "text/plain": [
       "<matplotlib.figure.Figure at 0x1096e8390>"
      ]
     },
     "metadata": {},
     "output_type": "display_data"
    }
   ],
   "source": [
    "# Make some plots\n",
    "plt.figure(2)\n",
    "plt.imshow(CityMapInit,cmap='gray')\n",
    "plt.title(\"Initial condition\")\n",
    "plt.axis('off')\n",
    "\n",
    "plt.figure(3)\n",
    "plt.imshow(CityMap,cmap='gray')\n",
    "plt.title(\"Final condition\")\n",
    "plt.axis('off')\n",
    "\n",
    "plt.figure(4)\n",
    "plt.imshow(CityMap+CityMapInit,cmap='bwr')\n",
    "plt.title(\"Change\")\n",
    "plt.axis('off')\n"
   ]
  },
  {
   "cell_type": "code",
   "execution_count": null,
   "metadata": {
    "collapsed": true
   },
   "outputs": [],
   "source": []
  }
 ],
 "metadata": {
  "kernelspec": {
   "display_name": "Python 2",
   "language": "python",
   "name": "python2"
  },
  "language_info": {
   "codemirror_mode": {
    "name": "ipython",
    "version": 2
   },
   "file_extension": ".py",
   "mimetype": "text/x-python",
   "name": "python",
   "nbconvert_exporter": "python",
   "pygments_lexer": "ipython2",
   "version": "2.7.10"
  }
 },
 "nbformat": 4,
 "nbformat_minor": 0
}
