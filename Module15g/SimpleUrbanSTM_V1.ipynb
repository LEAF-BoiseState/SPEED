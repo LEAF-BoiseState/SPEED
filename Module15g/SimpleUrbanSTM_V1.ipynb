{
 "cells": [
  {
   "cell_type": "markdown",
   "metadata": {},
   "source": [
    "# A simple state-and-transition model of urban development"
   ]
  },
  {
   "cell_type": "code",
   "execution_count": 26,
   "metadata": {
    "collapsed": false
   },
   "outputs": [],
   "source": [
    "%matplotlib inline\n",
    "\n",
    "# Import important libraries\n",
    "import numpy as np\n",
    "import matplotlib.pyplot as plt\n",
    "import math as m\n",
    "\n",
    "import warnings\n",
    "warnings.filterwarnings('ignore')"
   ]
  },
  {
   "cell_type": "code",
   "execution_count": 31,
   "metadata": {
    "collapsed": true
   },
   "outputs": [],
   "source": [
    "Ntime = 100 # Number of time steps to run (years)\n",
    "Ring = 6 # Number of rings of cells to evaluate neighborhood\n",
    "\n",
    "# Set Transition probabilities\n",
    "P_WU_lonely  = 0.00\n",
    "P_WU_crowded = 0.035\n",
    "f_UrbanCrit  = 0.22\n",
    "k_logistic   = 10.0"
   ]
  },
  {
   "cell_type": "markdown",
   "metadata": {},
   "source": []
  },
  {
   "cell_type": "code",
   "execution_count": 32,
   "metadata": {
    "collapsed": false
   },
   "outputs": [
    {
     "name": "stdout",
     "output_type": "stream",
     "text": [
      "Completed time step 0. 1.0% complete\n",
      "Completed time step 1. 2.0% complete\n",
      "Completed time step 2. 3.0% complete\n",
      "Completed time step 3. 4.0% complete\n",
      "Completed time step 4. 5.0% complete\n",
      "Completed time step 5. 6.0% complete\n",
      "Completed time step 6. 7.0% complete\n",
      "Completed time step 7. 8.0% complete\n",
      "Completed time step 8. 9.0% complete\n",
      "Completed time step 9. 10.0% complete\n",
      "Completed time step 10. 11.0% complete\n",
      "Completed time step 11. 12.0% complete\n",
      "Completed time step 12. 13.0% complete\n",
      "Completed time step 13. 14.0% complete\n",
      "Completed time step 14. 15.0% complete\n",
      "Completed time step 15. 16.0% complete\n",
      "Completed time step 16. 17.0% complete\n",
      "Completed time step 17. 18.0% complete\n",
      "Completed time step 18. 19.0% complete\n",
      "Completed time step 19. 20.0% complete\n",
      "Completed time step 20. 21.0% complete\n",
      "Completed time step 21. 22.0% complete\n",
      "Completed time step 22. 23.0% complete\n",
      "Completed time step 23. 24.0% complete\n",
      "Completed time step 24. 25.0% complete\n",
      "Completed time step 25. 26.0% complete\n",
      "Completed time step 26. 27.0% complete\n",
      "Completed time step 27. 28.0% complete\n",
      "Completed time step 28. 29.0% complete\n",
      "Completed time step 29. 30.0% complete\n",
      "Completed time step 30. 31.0% complete\n",
      "Completed time step 31. 32.0% complete\n",
      "Completed time step 32. 33.0% complete\n",
      "Completed time step 33. 34.0% complete\n",
      "Completed time step 34. 35.0% complete\n",
      "Completed time step 35. 36.0% complete\n",
      "Completed time step 36. 37.0% complete\n",
      "Completed time step 37. 38.0% complete\n",
      "Completed time step 38. 39.0% complete\n",
      "Completed time step 39. 40.0% complete\n",
      "Completed time step 40. 41.0% complete\n",
      "Completed time step 41. 42.0% complete\n",
      "Completed time step 42. 43.0% complete\n",
      "Completed time step 43. 44.0% complete\n",
      "Completed time step 44. 45.0% complete\n",
      "Completed time step 45. 46.0% complete\n",
      "Completed time step 46. 47.0% complete\n",
      "Completed time step 47. 48.0% complete\n",
      "Completed time step 48. 49.0% complete\n",
      "Completed time step 49. 50.0% complete\n",
      "Completed time step 50. 51.0% complete\n",
      "Completed time step 51. 52.0% complete\n",
      "Completed time step 52. 53.0% complete\n",
      "Completed time step 53. 54.0% complete\n",
      "Completed time step 54. 55.0% complete\n",
      "Completed time step 55. 56.0% complete\n",
      "Completed time step 56. 57.0% complete\n",
      "Completed time step 57. 58.0% complete\n",
      "Completed time step 58. 59.0% complete\n",
      "Completed time step 59. 60.0% complete\n",
      "Completed time step 60. 61.0% complete\n",
      "Completed time step 61. 62.0% complete\n",
      "Completed time step 62. 63.0% complete\n",
      "Completed time step 63. 64.0% complete\n",
      "Completed time step 64. 65.0% complete\n",
      "Completed time step 65. 66.0% complete\n",
      "Completed time step 66. 67.0% complete\n",
      "Completed time step 67. 68.0% complete\n",
      "Completed time step 68. 69.0% complete\n",
      "Completed time step 69. 70.0% complete\n",
      "Completed time step 70. 71.0% complete\n",
      "Completed time step 71. 72.0% complete\n",
      "Completed time step 72. 73.0% complete\n",
      "Completed time step 73. 74.0% complete\n",
      "Completed time step 74. 75.0% complete\n",
      "Completed time step 75. 76.0% complete\n",
      "Completed time step 76. 77.0% complete\n",
      "Completed time step 77. 78.0% complete\n",
      "Completed time step 78. 79.0% complete\n",
      "Completed time step 79. 80.0% complete\n",
      "Completed time step 80. 81.0% complete\n",
      "Completed time step 81. 82.0% complete\n",
      "Completed time step 82. 83.0% complete\n",
      "Completed time step 83. 84.0% complete\n",
      "Completed time step 84. 85.0% complete\n",
      "Completed time step 85. 86.0% complete\n",
      "Completed time step 86. 87.0% complete\n",
      "Completed time step 87. 88.0% complete\n",
      "Completed time step 88. 89.0% complete\n",
      "Completed time step 89. 90.0% complete\n",
      "Completed time step 90. 91.0% complete\n",
      "Completed time step 91. 92.0% complete\n",
      "Completed time step 92. 93.0% complete\n",
      "Completed time step 93. 94.0% complete\n",
      "Completed time step 94. 95.0% complete\n",
      "Completed time step 95. 96.0% complete\n",
      "Completed time step 96. 97.0% complete\n",
      "Completed time step 97. 98.0% complete\n",
      "Completed time step 98. 99.0% complete\n",
      "Completed time step 99. 100.0% complete\n"
     ]
    }
   ],
   "source": [
    "# Let's assume once a wild pixel is converted to urban, there's no going back. Thus, \n",
    "# the transition probability of urban to wild (P_UW) is zero\n",
    "\n",
    "# Load the initial city map\n",
    "CityMap = np.load('InitialCity.npy')\n",
    "CityMapInit = np.copy(CityMap) #Clone the initial condition. We'll be over-writing CityMap\n",
    "\n",
    "dims = np.shape(CityMap)\n",
    "Nrows = dims[0]\n",
    "Ncols = dims[1]\n",
    "\n",
    "for i in xrange(0,Ntime):\n",
    "    \n",
    "    CityMapUpdated = np.copy(CityMap)    \n",
    "    \n",
    "    for j in xrange(0,Nrows):\n",
    "        \n",
    "        for k in xrange(0,Ncols):\n",
    "            \n",
    "            if(CityMap[j,k] == 0.0): # Only need to consider wild pixels\n",
    "                \n",
    "                # Get the starting and ending row and column numbers N=Ring pixels \n",
    "                # in the each direction of the pixel in question (the neighborhood)\n",
    "                StartRow = np.max((j-Ring-1,0))\n",
    "                EndRow   = np.min((j+Ring+1,Nrows-1))\n",
    "                StartCol = np.max((k-Ring-1,0))\n",
    "                EndCol   = np.min((k+Ring+1,Ncols-1))\n",
    "                \n",
    "                # Get the 1s and 0s of the surrounding neighborhood\n",
    "                HoodMap = CityMap[StartRow:EndRow,StartCol:EndCol]\n",
    "\n",
    "                # Get the fraction of urbanized pixels in the neighborhood\n",
    "                dimsHoodMap = np.shape(HoodMap)\n",
    "                NHoodPix = float(dimsHoodMap[0]*dimsHoodMap[1])\n",
    "                NHoodUrb = np.sum(HoodMap)\n",
    "                \n",
    "                f_Urban = NHoodUrb/NHoodPix\n",
    "                \n",
    "                # Get the urbanization weighted transition probability\n",
    "                # Transform neighborhood fraction to \n",
    "                g_Urban = np.tan((f_Urban - 0.5)*m.pi)\n",
    "                g_UrbanCrit = np.tan((f_UrbanCrit - 0.5)*m.pi)\n",
    "                \n",
    "                P_WU = P_WU_crowded / (1 + np.exp(-k_logistic*(float(g_Urban - g_UrbanCrit)))) + P_WU_lonely\n",
    "                \n",
    "                if(np.random.uniform() < P_WU): # Transition if true\n",
    "                    CityMapUpdated[j,k] = 1.0 # Now urbanized\n",
    "                    \n",
    "    print \"Completed time step \" + format(i) + \". \" + format(float(i+1)/float(Ntime)*100.0) + \"% complete\"\n",
    "    CityMap = np.copy(CityMapUpdated)\n"
   ]
  },
  {
   "cell_type": "code",
   "execution_count": 33,
   "metadata": {
    "collapsed": false
   },
   "outputs": [
    {
     "data": {
      "text/plain": [
       "(-0.5, 285.5, 298.5, -0.5)"
      ]
     },
     "execution_count": 33,
     "metadata": {},
     "output_type": "execute_result"
    },
    {
     "data": {
      "image/png": "[encoded data removed]",
      "text/plain": [
       "<matplotlib.figure.Figure at 0x10da784d0>"
      ]
     },
     "metadata": {},
     "output_type": "display_data"
    }
   ],
   "source": [
    "# Make some plots\n",
    "plt.figure(1)\n",
    "plt.subplot(221)\n",
    "plt.imshow(CityMapInit,cmap='gray')\n",
    "plt.title(\"Initial condition\")\n",
    "plt.axis('off')\n",
    "\n",
    "plt.subplot(222)\n",
    "plt.imshow(CityMap,cmap='gray')\n",
    "plt.title(\"Final condition\")\n",
    "plt.axis('off')\n",
    "\n",
    "plt.subplot(223)\n",
    "plt.imshow(CityMap+CityMapInit,cmap='bwr')\n",
    "plt.title(\"Change\")\n",
    "plt.axis('off')\n"
   ]
  },
  {
   "cell_type": "code",
   "execution_count": null,
   "metadata": {
    "collapsed": true
   },
   "outputs": [],
   "source": []
  }
 ],
 "metadata": {
  "kernelspec": {
   "display_name": "Python 2",
   "language": "python",
   "name": "python2"
  },
  "language_info": {
   "codemirror_mode": {
    "name": "ipython",
    "version": 2
   },
   "file_extension": ".py",
   "mimetype": "text/x-python",
   "name": "python",
   "nbconvert_exporter": "python",
   "pygments_lexer": "ipython2",
   "version": "2.7.10"
  }
 },
 "nbformat": 4,
 "nbformat_minor": 0
}
